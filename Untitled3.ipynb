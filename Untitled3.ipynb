{
  "nbformat": 4,
  "nbformat_minor": 0,
  "metadata": {
    "colab": {
      "provenance": [],
      "authorship_tag": "ABX9TyPbwLemk6+fpuic3jAjAQTr",
      "include_colab_link": true
    },
    "kernelspec": {
      "name": "python3",
      "display_name": "Python 3"
    },
    "language_info": {
      "name": "python"
    }
  },
  "cells": [
    {
      "cell_type": "markdown",
      "metadata": {
        "id": "view-in-github",
        "colab_type": "text"
      },
      "source": [
        "<a href=\"https://colab.research.google.com/github/DinuthDheeraka/git-merge-tutorial/blob/master/Untitled3.ipynb\" target=\"_parent\"><img src=\"https://colab.research.google.com/assets/colab-badge.svg\" alt=\"Open In Colab\"/></a>"
      ]
    },
    {
      "cell_type": "code",
      "execution_count": null,
      "metadata": {
        "id": "WDhCz3cgW4e3"
      },
      "outputs": [],
      "source": [
        "from transformers import pipeline\n",
        "\n"
      ]
    },
    {
      "cell_type": "code",
      "source": [
        "sentiment_analysis = pipeline(\"sentiment-analysis\",model=\"siebert/sentiment-roberta-large-english\")\n",
        "print(sentiment_analysis(\"I Hate this!\"))"
      ],
      "metadata": {
        "id": "jgyNimyqXQM4"
      },
      "execution_count": null,
      "outputs": []
    },
    {
      "cell_type": "code",
      "source": [
        "from transformers import AutoTokenizer, AutoModelForSequenceClassification\n",
        "\n",
        "tokenizer = AutoTokenizer.from_pretrained(\"LiYuan/amazon-review-sentiment-analysis\")\n",
        "\n",
        "model = AutoModelForSequenceClassification.from_pretrained(\"LiYuan/amazon-review-sentiment-analysis\")\n",
        "\n",
        "inputs = tokenizer(\"wow\", return_tensors=\"pt\")\n",
        "\n",
        "outputs = model(**inputs)\n",
        "\n",
        "prediction = outputs.logits\n",
        "\n",
        "print(prediction)\n",
        "\n"
      ],
      "metadata": {
        "id": "WFaGWrozX9DN"
      },
      "execution_count": null,
      "outputs": []
    },
    {
      "cell_type": "code",
      "source": [
        "import torch\n",
        "\n",
        "# (... model loading and prediction steps ...)\n",
        "\n",
        "probabilities = torch.nn.functional.softmax(prediction, dim=1)\n",
        "a = probabilities[0][0]\n",
        "b = probabilities[0][1]\n",
        "c = probabilities[0][2]\n",
        "d = probabilities[0][3]\n",
        "e = probabilities[0][4]\n",
        "print(a)\n",
        "print(b)\n",
        "print(c)\n",
        "print(d)\n",
        "print(e)"
      ],
      "metadata": {
        "id": "l2Jx0uKfeJYX"
      },
      "execution_count": null,
      "outputs": []
    },
    {
      "cell_type": "code",
      "source": [],
      "metadata": {
        "id": "9cLQJIqjYDHe"
      },
      "execution_count": 7,
      "outputs": []
    }
  ]
}